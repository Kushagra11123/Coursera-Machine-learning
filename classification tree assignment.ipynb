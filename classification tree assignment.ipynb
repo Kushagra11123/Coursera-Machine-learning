{
 "cells": [
  {
   "cell_type": "code",
   "execution_count": 1,
   "id": "c6e7b77a",
   "metadata": {},
   "outputs": [],
   "source": [
    "import pandas as pd\n",
    "import numpy as np\n",
    "import matplotlib.pyplot as plt\n",
    "from sklearn.model_selection import train_test_split\n",
    "from sklearn.tree import DecisionTreeClassifier\n",
    "from sklearn.metrics import classification_report\n",
    "import sklearn.metrics"
   ]
  },
  {
   "cell_type": "code",
   "execution_count": 2,
   "id": "4861f711",
   "metadata": {},
   "outputs": [],
   "source": [
    "#load data\n",
    "AH_data = pd.read_csv('Downloads\\_d21b2085472fd467f689f21cd421b13b_tree_addhealth.csv')\n",
    "\n",
    "data_clean = AH_data.dropna()"
   ]
  },
  {
   "cell_type": "code",
   "execution_count": 3,
   "id": "f5fb32c0",
   "metadata": {},
   "outputs": [
    {
     "data": {
      "text/plain": [
       "((6504, 25), (4575, 25))"
      ]
     },
     "execution_count": 3,
     "metadata": {},
     "output_type": "execute_result"
    }
   ],
   "source": [
    "AH_data.shape,data_clean.shape"
   ]
  },
  {
   "cell_type": "code",
   "execution_count": 4,
   "id": "dac0be1b",
   "metadata": {},
   "outputs": [],
   "source": [
    "#split into train and test\n",
    "predictors = data_clean[['BIO_SEX','HISPANIC','WHITE','BLACK','NAMERICAN','ASIAN',\n",
    "'age','ALCEVR1','ALCPROBS1','marever1','cocever1','inhever1','cigavail','DEP1',\n",
    "'ESTEEM1','VIOL1','PASSIST','DEVIANT1','SCHCONN1','GPA1','EXPEL1','FAMCONCT','PARACTV',\n",
    "'PARPRES']]\n",
    "\n",
    "targets = data_clean.TREG1\n",
    "\n",
    "pred_train, pred_test, tar_train, tar_test = train_test_split(predictors, targets, test_size=.4)"
   ]
  },
  {
   "cell_type": "code",
   "execution_count": 5,
   "id": "7e59ed73",
   "metadata": {},
   "outputs": [
    {
     "data": {
      "text/plain": [
       "((2745, 24), (1830, 24), (2745,))"
      ]
     },
     "execution_count": 5,
     "metadata": {},
     "output_type": "execute_result"
    }
   ],
   "source": [
    "pred_train.shape,pred_test.shape,tar_train.shape"
   ]
  },
  {
   "cell_type": "code",
   "execution_count": 6,
   "id": "c81d980c",
   "metadata": {},
   "outputs": [],
   "source": [
    "classifier = DecisionTreeClassifier(max_depth=4)\n",
    "classifier = classifier.fit(pred_train,tar_train)\n",
    "\n",
    "predictions = classifier.predict(pred_test)"
   ]
  },
  {
   "cell_type": "code",
   "execution_count": 7,
   "id": "289cc7ab",
   "metadata": {},
   "outputs": [
    {
     "data": {
      "text/plain": [
       "array([[1432,   66],\n",
       "       [ 241,   91]], dtype=int64)"
      ]
     },
     "execution_count": 7,
     "metadata": {},
     "output_type": "execute_result"
    }
   ],
   "source": [
    "sklearn.metrics.confusion_matrix(tar_test,predictions)"
   ]
  },
  {
   "cell_type": "code",
   "execution_count": 8,
   "id": "849b9b2e",
   "metadata": {},
   "outputs": [
    {
     "data": {
      "text/plain": [
       "0.83224043715847"
      ]
     },
     "execution_count": 8,
     "metadata": {},
     "output_type": "execute_result"
    }
   ],
   "source": [
    "sklearn.metrics.accuracy_score(tar_test,predictions)"
   ]
  },
  {
   "cell_type": "code",
   "execution_count": 22,
   "id": "1911c7ca",
   "metadata": {},
   "outputs": [],
   "source": [
    "from sklearn import tree\n",
    "from IPython.display import Image\n",
    "from io import StringIO\n",
    "from graphviz import Source"
   ]
  },
  {
   "cell_type": "code",
   "execution_count": 23,
   "id": "2ee9c6f6",
   "metadata": {},
   "outputs": [],
   "source": [
    "feature_name = ['BIO_SEX','HISPANIC','WHITE','BLACK','NAMERICAN','ASIAN',\n",
    "'age','ALCEVR1','ALCPROBS1','marever1','cocever1','inhever1','cigavail','DEP1',\n",
    "'ESTEEM1','VIOL1','PASSIST','DEVIANT1','SCHCONN1','GPA1','EXPEL1','FAMCONCT','PARACTV',\n",
    "'PARPRES']\n",
    "out = StringIO()\n",
    "tree.export_graphviz(classifier,out_file = out,max_depth=3,feature_names=feature_name)\n",
    "import pydotplus\n",
    "graph = pydotplus.graph_from_dot_data(out.getvalue())"
   ]
  },
  {
   "cell_type": "code",
   "execution_count": null,
   "id": "895548e6",
   "metadata": {},
   "outputs": [],
   "source": [
    "Image(graph.create_png())"
   ]
  }
 ],
 "metadata": {
  "kernelspec": {
   "display_name": "Python 3",
   "language": "python",
   "name": "python3"
  },
  "language_info": {
   "codemirror_mode": {
    "name": "ipython",
    "version": 3
   },
   "file_extension": ".py",
   "mimetype": "text/x-python",
   "name": "python",
   "nbconvert_exporter": "python",
   "pygments_lexer": "ipython3",
   "version": "3.8.8"
  }
 },
 "nbformat": 4,
 "nbformat_minor": 5
}
